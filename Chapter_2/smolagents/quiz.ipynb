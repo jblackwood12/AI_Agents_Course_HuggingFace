{
 "cells": [
  {
   "cell_type": "markdown",
   "id": "1c8eacff",
   "metadata": {},
   "source": [
    "Question 1\n",
    "Challenge:\n",
    "Create a Basic Code Agent with Web Search Capability\n",
    "\n",
    "Assessment Criteria:\n",
    "Correct imports are included\n",
    "DuckDuckGoSearchTool is added to tools list\n",
    "HfApiModel is properly configured\n",
    "Model ID is correctly specified"
   ]
  },
  {
   "cell_type": "code",
   "execution_count": null,
   "id": "728b16d9",
   "metadata": {},
   "outputs": [],
   "source": [
    "# Create a CodeAgent with DuckDuckGo search capability\n",
    "from smolagents import CodeAgent\n",
    "\n",
    "agent = CodeAgent(\n",
    "    tools=[],           # Add search tool here\n",
    "    model=None          # Add model here\n",
    ")"
   ]
  }
 ],
 "metadata": {
  "language_info": {
   "name": "python"
  }
 },
 "nbformat": 4,
 "nbformat_minor": 5
}
