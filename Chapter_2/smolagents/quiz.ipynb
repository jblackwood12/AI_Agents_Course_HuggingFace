{
 "cells": [
  {
   "cell_type": "markdown",
   "id": "1c8eacff",
   "metadata": {},
   "source": [
    "Question 1\n",
    "Challenge:\n",
    "Create a Basic Code Agent with Web Search Capability\n",
    "\n",
    "Assessment Criteria:\n",
    "Correct imports are included\n",
    "DuckDuckGoSearchTool is added to tools list\n",
    "HfApiModel is properly configured\n",
    "Model ID is correctly specified"
   ]
  },
  {
   "cell_type": "code",
   "execution_count": null,
   "id": "728b16d9",
   "metadata": {},
   "outputs": [],
   "source": [
    "from smolagents import CodeAgent, DuckDuckGoSearchTool, HfApiModel\n",
    "\n",
    "agent = CodeAgent(\n",
    "    tools=[DuckDuckGoSearchTool()],\n",
    "    model=HfApiModel(\"Qwen/Qwen2.5-Coder-32B-Instruct\")\n",
    ")"
   ]
  },
  {
   "cell_type": "markdown",
   "id": "1c2bccab",
   "metadata": {},
   "source": [
    "Output: (server issue)\n",
    "Error generating feedback: 404 Client Error: Not Found for url: https://api-inference.huggingface.co/models/Qwen/Qwen2.5-Coder-32B-Instruct (Request ID: Root=1-689f9bf1-0f76357374c246576d856ae9;b0359fd2-2e69-4486-9b03-f95f2a5fd869)"
   ]
  },
  {
   "cell_type": "markdown",
   "id": "b5e47366",
   "metadata": {},
   "source": [
    "Question 2\n",
    "Challenge:\n",
    "Set Up a Multi-Agent System with Manager and Web Search Agents\n",
    "\n",
    "Assessment Criteria:\n",
    "Web agent has correct tools configured\n",
    "Manager agent properly references web agent\n",
    "Appropriate max_steps value is set\n",
    "Required imports are authorized"
   ]
  },
  {
   "cell_type": "code",
   "execution_count": null,
   "id": "da7c92b2",
   "metadata": {},
   "outputs": [],
   "source": [
    "web_agent = ToolCallingAgent(\n",
    "    tools=[DuckDuckGoSearchTool(), visit_webpage],\n",
    "    model=model,\n",
    "    max_steps=10,\n",
    "    name=\"search\",\n",
    "    description=\"Runs web searches for you.\"\n",
    ")\n",
    "\n",
    "manager_agent = CodeAgent(\n",
    "    tools=[],\n",
    "    model=model,\n",
    "    managed_agents=[web_agent],\n",
    "    additional_authorized_imports=[\"time\", \"numpy\", \"pandas\"]\n",
    ")"
   ]
  },
  {
   "cell_type": "markdown",
   "id": "35b6a9ac",
   "metadata": {},
   "source": [
    "Output:\n",
    "Again, 404 error (their API is down)"
   ]
  },
  {
   "cell_type": "markdown",
   "id": "cddaadb1",
   "metadata": {},
   "source": [
    "Question 3\n",
    "Challenge:\n",
    "Configure Agent Security Settings\n",
    "\n",
    "Assessment Criteria:\n",
    "E2B sandbox is properly configured\n",
    "Authorized imports are appropriately limited\n",
    "Security settings are correctly implemented\n",
    "Basic agent configuration is maintained\n",
    "Your Solution"
   ]
  },
  {
   "cell_type": "code",
   "execution_count": null,
   "id": "95db6f11",
   "metadata": {},
   "outputs": [],
   "source": [
    "from smolagents import CodeAgent, E2BSandbox\n",
    "\n",
    "agent = CodeAgent(\n",
    "    tools=[],\n",
    "    model=model,\n",
    "    sandbox=E2BSandbox(),\n",
    "    additional_authorized_imports=[\"numpy\"]\n",
    ")"
   ]
  },
  {
   "cell_type": "markdown",
   "id": "e12e0608",
   "metadata": {},
   "source": [
    "Question 4\n",
    "Challenge:\n",
    "Implement a Tool-Calling Agent\n",
    "\n",
    "Assessment Criteria:\n",
    "Tools are properly configured\n",
    "Step limit is set appropriately\n",
    "Agent name and description are provided\n",
    "Basic configuration is complete"
   ]
  },
  {
   "cell_type": "code",
   "execution_count": null,
   "id": "c93152d5",
   "metadata": {},
   "outputs": [],
   "source": [
    "from smolagents import ToolCallingAgent\n",
    "\n",
    "agent = ToolCallingAgent(\n",
    "    tools=[custom_tool],\n",
    "    model=model,\n",
    "    max_steps=5,\n",
    "    name=\"tool_agent\",\n",
    "    description=\"Executes specific tools based on input\"\n",
    ")"
   ]
  },
  {
   "cell_type": "markdown",
   "id": "698f0f7a",
   "metadata": {},
   "source": [
    "Output: 404 error (from their API being down)"
   ]
  },
  {
   "cell_type": "markdown",
   "id": "31fa1fda",
   "metadata": {},
   "source": [
    "Question 5\n",
    "Challenge:\n",
    "Set Up Model Integration\n",
    "\n",
    "Assessment Criteria:\n",
    "Correct model imports are included\n",
    "Model is properly initialized\n",
    "Model ID is correctly specified\n",
    "Alternative model option is provided"
   ]
  },
  {
   "cell_type": "code",
   "execution_count": null,
   "id": "d8b39372",
   "metadata": {},
   "outputs": [],
   "source": [
    "from smolagents import HfApiModel, LiteLLMModel\n",
    "\n",
    "# Hugging Face model\n",
    "hf_model = HfApiModel(\"Qwen/Qwen2.5-Coder-32B-Instruct\")\n",
    "\n",
    "# Alternative model via LiteLLM\n",
    "other_model = LiteLLMModel(\"anthropic/claude-3-sonnet\")"
   ]
  }
 ],
 "metadata": {
  "kernelspec": {
   "display_name": "base",
   "language": "python",
   "name": "python3"
  },
  "language_info": {
   "name": "python",
   "version": "3.13.5"
  }
 },
 "nbformat": 4,
 "nbformat_minor": 5
}
