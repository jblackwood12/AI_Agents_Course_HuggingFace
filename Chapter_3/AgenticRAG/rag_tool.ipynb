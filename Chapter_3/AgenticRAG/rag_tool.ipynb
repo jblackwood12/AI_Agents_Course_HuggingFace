{
 "cells": [
  {
   "cell_type": "code",
   "execution_count": null,
   "id": "fb194dd2",
   "metadata": {},
   "outputs": [],
   "source": [
    "import datasets\n",
    "from langchain_core.documents import Document\n",
    "\n",
    "# Load the dataset\n",
    "guest_dataset = datasets.load_dataset(\"agents-course/unit3-invitees\", split=\"train\")\n",
    "\n",
    "# Convert dataset entries into Document objects\n",
    "docs = [\n",
    "    Document(\n",
    "        page_content=\"\\n\".join([\n",
    "            f\"Name: {guest['name']}\",\n",
    "            f\"Relation: {guest['relation']}\",\n",
    "            f\"Description: {guest['description']}\",\n",
    "            f\"Email: {guest['email']}\"\n",
    "        ]),\n",
    "        metadata={\"name\": guest[\"name\"]}\n",
    "    )\n",
    "    for guest in guest_dataset\n",
    "]"
   ]
  },
  {
   "cell_type": "code",
   "execution_count": null,
   "id": "26b4c2f0",
   "metadata": {},
   "outputs": [],
   "source": [
    "from smolagents import Tool\n",
    "from langchain_community.retrievers import BM25Retriever\n",
    "\n",
    "class GuestInfoRetrieverTool(Tool):\n",
    "    name = \"guest_info_retriever\"\n",
    "    description = \"Retrieves detailed information about gala guests based on their name or relation.\"\n",
    "    inputs = {\n",
    "        \"query\": {\n",
    "            \"type\": \"string\",\n",
    "            \"description\": \"The name or relation of the guest you want information about.\"\n",
    "        }\n",
    "    }\n",
    "    output_type = \"string\"\n",
    "\n",
    "    def __init__(self, docs):\n",
    "        self.is_initialized = False\n",
    "        self.retriever = BM25Retriever.from_documents(docs)\n",
    "\n",
    "    def forward(self, query: str):\n",
    "        results = self.retriever.get_relevant_documents(query)\n",
    "        if results:\n",
    "            return \"\\n\\n\".join([doc.page_content for doc in results[:3]])\n",
    "        else:\n",
    "            return \"No matching guest information found.\"\n",
    "\n",
    "# Initialize the tool\n",
    "guest_info_tool = GuestInfoRetrieverTool(docs)"
   ]
  },
  {
   "cell_type": "code",
   "execution_count": null,
   "id": "709dc892",
   "metadata": {},
   "outputs": [],
   "source": [
    "from smolagents import CodeAgent, InferenceClientModel\n",
    "\n",
    "# Initialize the Hugging Face model\n",
    "model = InferenceClientModel()\n",
    "\n",
    "# Create Alfred, our gala agent, with the guest info tool\n",
    "alfred = CodeAgent(tools=[guest_info_tool], model=model)\n",
    "\n",
    "# Example query Alfred might receive during the gala\n",
    "response = alfred.run(\"Tell me about our guest named 'Lady Ada Lovelace'.\")\n",
    "\n",
    "print(\"🎩 Alfred's Response:\")\n",
    "print(response)"
   ]
  }
 ],
 "metadata": {
  "kernelspec": {
   "display_name": "base",
   "language": "python",
   "name": "python3"
  },
  "language_info": {
   "name": "python",
   "version": "3.13.5"
  }
 },
 "nbformat": 4,
 "nbformat_minor": 5
}
